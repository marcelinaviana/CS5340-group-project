{
 "cells": [
  {
   "cell_type": "code",
   "execution_count": 1,
   "metadata": {},
   "outputs": [
    {
     "name": "stdout",
     "output_type": "stream",
     "text": [
      "Python: 3.8.5 (default, Sep  3 2020, 21:29:08) [MSC v.1916 64 bit (AMD64)]\n",
      "Sklearn: 0.23.2\n",
      "Matplotlib: 3.3.2\n",
      "NumPy: 1.19.2\n"
     ]
    }
   ],
   "source": [
    "import sys\n",
    "import sklearn\n",
    "import matplotlib\n",
    "import numpy as np\n",
    "from datetime import datetime\n",
    "\n",
    "from scipy import optimize\n",
    "from numpy import log, exp\n",
    "    \n",
    "from scipy.stats import multivariate_normal as mnorm\n",
    "from scipy.stats import norm\n",
    "\n",
    "import matplotlib.pyplot as plt\n",
    "\n",
    "# python magic function\n",
    "%matplotlib inline\n",
    "\n",
    "print('Python: {}'.format(sys.version))\n",
    "print('Sklearn: {}'.format(sklearn.__version__))\n",
    "print('Matplotlib: {}'.format(matplotlib.__version__))\n",
    "print('NumPy: {}'.format(np.__version__))"
   ]
  },
  {
   "cell_type": "code",
   "execution_count": 2,
   "metadata": {},
   "outputs": [],
   "source": [
    "import warnings\n",
    "\n",
    "warnings.filterwarnings('ignore')"
   ]
  },
  {
   "cell_type": "code",
   "execution_count": 3,
   "metadata": {},
   "outputs": [
    {
     "name": "stdout",
     "output_type": "stream",
     "text": [
      "Training Data: (60000, 28, 28)\n",
      "Training Labels: (60000,)\n",
      "Testing Data: (10000, 28, 28)\n",
      "Testing Labels: (10000,)\n"
     ]
    }
   ],
   "source": [
    "from keras.datasets import mnist\n",
    "\n",
    "(X_train, y_train), (X_test, y_test) = mnist.load_data()\n",
    "\n",
    "print('Training Data: {}'.format(X_train.shape))\n",
    "print('Training Labels: {}'.format(y_train.shape))\n",
    "print('Testing Data: {}'.format(X_test.shape))\n",
    "print('Testing Labels: {}'.format(y_test.shape))"
   ]
  },
  {
   "cell_type": "code",
   "execution_count": 4,
   "metadata": {},
   "outputs": [
    {
     "data": {
      "image/png": "[encoded data removed]",
      "text/plain": [
       "<Figure size 864x864 with 9 Axes>"
      ]
     },
     "metadata": {
      "needs_background": "light"
     },
     "output_type": "display_data"
    }
   ],
   "source": [
    "# create figure with 3x3 subplots using matplotlib.pyplot\n",
    "fig, axs = plt.subplots(3, 3, figsize = (12, 12))\n",
    "plt.gray()\n",
    "\n",
    "# loop through subplots and add mnist images\n",
    "for i, ax in enumerate(axs.flat):\n",
    "    ax.matshow(X_train[i])\n",
    "    ax.axis('off')\n",
    "    ax.set_title('Number {}'.format(y_train[i]))\n",
    "    \n",
    "# display the figure\n",
    "fig.show()"
   ]
  },
  {
   "cell_type": "code",
   "execution_count": 5,
   "metadata": {},
   "outputs": [
    {
     "name": "stdout",
     "output_type": "stream",
     "text": [
      "(60000, 784)\n",
      "(784,)\n",
      "(10000, 784)\n",
      "(784,)\n",
      "(60000,)\n",
      "(10000,)\n",
      "Y Class Labels: {0, 1, 2, 3, 4, 5, 6, 7, 8, 9}\n"
     ]
    }
   ],
   "source": [
    "# preprocessing the images\n",
    "\n",
    "# convert each image to 1 dimensional array\n",
    "X_train = X_train.reshape(len(X_train),-1)\n",
    "X_test = X_test.reshape(len(X_test),-1)\n",
    "# y_test = y_test\n",
    "\n",
    "# normalize the data to 0 - 1\n",
    "X_train = X_train.astype(float) / 255.\n",
    "X_test = X_test.astype(float) / 255.\n",
    "\n",
    "y_classes = set(y_train)\n",
    "\n",
    "print(X_train.shape)\n",
    "print(X_train[0].shape)\n",
    "print(X_test.shape)\n",
    "print(X_test[0].shape)\n",
    "print(y_train.shape)\n",
    "print(y_test.shape)\n",
    "print(f'Y Class Labels: {y_classes}')"
   ]
  },
  {
   "cell_type": "code",
   "execution_count": 6,
   "metadata": {},
   "outputs": [],
   "source": [
    "# using an optimizer\n",
    "def negloglike(theta, x):\n",
    "    mu = theta[0]\n",
    "    var = theta[1]\n",
    "    \n",
    "    # setup lower bound for the variance\n",
    "    limit = 1e-6    \n",
    "    if var < limit:\n",
    "        var = limit\n",
    "        \n",
    "    N = x.size\n",
    "    nll = N*log(var) + np.sum((x - mu)**2/var)\n",
    "    return nll\n",
    "\n",
    "# fit to create a normal probability distribution for a feature data (one column)\n",
    "def fit_distribution(x):\n",
    "    feature_mean = np.mean(x)\n",
    "    feature_var = np.var(x)\n",
    "    \n",
    "    bnds = ((None, None), (0, None))\n",
    "    \n",
    "    params = optimize.minimize(negloglike, np.array([feature_mean, feature_var]), \n",
    "                               args=(x), bounds=bnds, tol=1e-10, method='BFGS')\n",
    "    \n",
    "    opt_mean = params.x[0]\n",
    "    opt_std = np.sqrt(params.x[1]) # convert variance to std dev\n",
    "    \n",
    "    dist = norm(opt_mean, opt_std)\n",
    "    \n",
    "    return dist\n",
    "\n",
    "# this function calculates the mle = likelihood\n",
    "def mle_prob(X, col_dist_list):\n",
    "    # feature_1 * feature_2 * .. * feature_N\n",
    "#     print(X.shape)\n",
    "    acc_prob = 1\n",
    "    for i in range(X.shape[0]):\n",
    "        dist = col_dist_list[i]\n",
    "        prob = dist.pdf(X[i])\n",
    "        if np.isnan(prob):\n",
    "            prob = 1\n",
    "        acc_prob *= prob\n",
    "    return acc_prob\n",
    "\n",
    "# this function calculates the posterior = likelihood * prior\n",
    "def map_prob(X, col_dist_list, prior):\n",
    "    # feature_1 * feature_2 * .. * feature_N * prior\n",
    "    acc_prob = 1\n",
    "    for i in range(X.shape[0]):\n",
    "        dist = col_dist_list[i]\n",
    "        prob = dist.pdf(X[i])\n",
    "        if np.isnan(prob):\n",
    "            prob = 1\n",
    "        acc_prob *= prob\n",
    "    return acc_prob * prior"
   ]
  },
  {
   "cell_type": "code",
   "execution_count": 7,
   "metadata": {
    "scrolled": false
   },
   "outputs": [
    {
     "name": "stdout",
     "output_type": "stream",
     "text": [
      "Processing Y Class: 0\n",
      "Processing Y Class: 1\n",
      "Processing Y Class: 2\n",
      "Processing Y Class: 3\n",
      "Processing Y Class: 4\n",
      "Processing Y Class: 5\n",
      "Processing Y Class: 6\n",
      "Processing Y Class: 7\n",
      "Processing Y Class: 8\n",
      "Processing Y Class: 9\n",
      "(10,)\n"
     ]
    }
   ],
   "source": [
    "X_subsets = []\n",
    "for cls in y_classes:\n",
    "    print(f'Processing Y Class: {cls}')\n",
    "#     this_x = X[y==cls]\n",
    "    X_subsets.append(X_train[y_train==cls])\n",
    "X_subsets = np.asarray(X_subsets)\n",
    "print(X_subsets.shape)"
   ]
  },
  {
   "cell_type": "code",
   "execution_count": 8,
   "metadata": {},
   "outputs": [
    {
     "name": "stdout",
     "output_type": "stream",
     "text": [
      "Processing Y Class: 0\n",
      "(5923, 784)\n",
      "Processing Y Class: 1\n",
      "(6742, 784)\n",
      "Processing Y Class: 2\n",
      "(5958, 784)\n",
      "Processing Y Class: 3\n",
      "(6131, 784)\n",
      "Processing Y Class: 4\n",
      "(5842, 784)\n",
      "Processing Y Class: 5\n",
      "(5421, 784)\n",
      "Processing Y Class: 6\n",
      "(5918, 784)\n",
      "Processing Y Class: 7\n",
      "(6265, 784)\n",
      "Processing Y Class: 8\n",
      "(5851, 784)\n",
      "Processing Y Class: 9\n",
      "(5949, 784)\n",
      "Runtime: 0:01:27.098300\n"
     ]
    }
   ],
   "source": [
    "start_time = datetime.now()\n",
    "\n",
    "cls_col_dist_list = []\n",
    "for cls in y_classes:\n",
    "    # OK, since y classes are 0 and 1, so use it as the index\n",
    "    print(f'Processing Y Class: {cls}')\n",
    "    x_subset = X_subsets[cls]\n",
    "    print(x_subset.shape)\n",
    "    \n",
    "    # For each column, create a normal distribution and put in the list\n",
    "    col_dist_list = np.array([fit_distribution(x_subset[:, i]) for i in range(x_subset.shape[1])])\n",
    "    cls_col_dist_list.append(col_dist_list)\n",
    "cls_col_dist_list = np.array(cls_col_dist_list)\n",
    "cls_col_dist_list.shape\n",
    "\n",
    "end_time = datetime.now()\n",
    "\n",
    "print(f'Runtime: {str(end_time-start_time)}')"
   ]
  },
  {
   "cell_type": "code",
   "execution_count": 9,
   "metadata": {},
   "outputs": [
    {
     "data": {
      "text/plain": [
       "array([0.09871667, 0.11236667, 0.0993    , 0.10218333, 0.09736667,\n",
       "       0.09035   , 0.09863333, 0.10441667, 0.09751667, 0.09915   ])"
      ]
     },
     "execution_count": 9,
     "metadata": {},
     "output_type": "execute_result"
    }
   ],
   "source": [
    "prior_list = np.array([len(X_subsets[cls]) / len(X_train) for cls in y_classes])\n",
    "prior_list"
   ]
  },
  {
   "cell_type": "code",
   "execution_count": 14,
   "metadata": {
    "scrolled": true
   },
   "outputs": [],
   "source": [
    "# try to classify sample\n",
    "y_pred = []\n",
    "y_test_list = []\n",
    "# for i in range(len(X)):\n",
    "for i in range(500):\n",
    "    sample_index = i\n",
    "#     x_t, y_t = X[i], y[i]\n",
    "    x_t, y_t = X_test[i], y_test[i]\n",
    "#     print(X_test, y_test)\n",
    "    \n",
    "    # calculate the probability of p(y=0|x)\n",
    "    # for each class, calculate the probability\n",
    "    post_prob = [mle_prob(x_t, cls_col_dist_list[cls]) for cls in y_classes]\n",
    "#     print(post_prob)\n",
    "\n",
    "    y_pred.append(np.argmax(post_prob))\n",
    "    y_test_list.append(y_t)    \n"
   ]
  },
  {
   "cell_type": "code",
   "execution_count": 15,
   "metadata": {},
   "outputs": [
    {
     "name": "stdout",
     "output_type": "stream",
     "text": [
      "[7 2 1 0 4 1 4 9 4 7 0 6 9 0 1 3 9 7 2 4 9 6 6 5 4 0 7 4 0 1 3 1 3 0 7 2 7\n",
      " 1 2 1 1 7 4 2 3 3 3 6 4 4 6 3 5 3 6 0 4 1 9 4 7 2 7 2 7 1 2 4 3 0 7 0 2 7\n",
      " 1 7 3 2 1 7 7 6 2 7 4 4 7 3 6 1 3 6 1 3 1 4 1 2 6 9 6 0 5 4 9 9 2 1 9 4 1\n",
      " 1 1 9 7 4 4 4 7 4 3 4 7 6 7 9 0 5 8 5 6 6 3 2 1 1 0 1 6 4 6 7 3 1 7 1 8 2\n",
      " 0 2 4 4 5 3 1 5 6 0 3 4 4 6 5 4 6 3 4 5 1 4 4 7 2 3 2 1 1 4 1 8 1 8 1 0 3\n",
      " 4 2 3 0 1 1 1 0 4 0 4 1 6 4 2 3 6 1 1 1 3 9 3 2 9 4 7 9 1 9 0 3 5 7 5 7 2\n",
      " 2 7 1 2 8 1 1 7 3 1 8 7 7 7 2 2 4 1 3 3 8 4 2 3 0 2 4 1 4 1 9 3 7 7 1 1 2\n",
      " 6 8 5 7 7 9 1 3 1 2 0 3 0 1 9 9 4 1 8 2 1 2 9 1 5 9 2 6 0 1 3 4 2 9 2 0 4\n",
      " 0 0 2 1 4 4 1 2 4 0 2 7 4 3 3 0 0 3 1 9 6 5 2 5 1 7 9 1 3 4 2 0 7 1 1 2 1\n",
      " 5 3 3 4 7 2 6 3 2 1 3 5 1 3 5 1 7 1 3 0 6 1 8 5 1 7 4 0 6 7 2 4 0 6 5 6 3\n",
      " 7 2 2 8 4 5 9 1 1 4 0 7 3 7 6 1 6 2 1 9 2 8 6 1 7 3 2 3 4 4 2 3 3 4 3 4 0\n",
      " 0 3 1 7 1 3 7 9 7 1 7 2 1 4 0 9 2 0 2 9 1 4 4 1 4 4 5 9 8 4 3 7 6 0 0 3 4\n",
      " 8 0 6 4 3 3 3 3 2 3 9 1 2 3 9 0 7 6 6 6 7 8 8 2 7 5 8 7 6 1 8 4 1 2 3 3 1\n",
      " 9 7 0 4 0 4 9 7 1 0 3 2 3 7 2 9 1 4 1]\n",
      "[7 2 1 0 4 1 4 9 5 9 0 6 9 0 1 5 9 7 3 4 9 6 6 5 4 0 7 4 0 1 3 1 3 4 7 2 7\n",
      " 1 2 1 1 7 4 2 3 5 1 2 4 4 6 3 5 5 6 0 4 1 9 5 7 8 9 3 7 4 6 4 3 0 7 0 2 9\n",
      " 1 7 3 2 9 7 7 6 2 7 8 4 7 3 6 1 3 6 9 3 1 4 1 7 6 9 6 0 5 4 9 9 2 1 9 4 8\n",
      " 7 3 9 7 4 4 4 9 2 5 4 7 6 7 9 0 5 8 5 6 6 5 7 8 1 0 1 6 4 6 7 3 1 7 1 8 2\n",
      " 0 2 9 9 5 5 1 5 6 0 3 4 4 6 5 4 6 5 4 5 1 4 4 7 2 3 2 7 1 8 1 8 1 8 5 0 8\n",
      " 9 2 5 0 1 1 1 0 9 0 3 1 6 4 2 3 6 1 1 1 3 9 5 2 9 4 5 9 3 9 0 3 6 5 5 7 2\n",
      " 2 7 1 2 8 4 1 7 3 3 8 8 7 9 2 2 4 1 5 9 8 7 2 3 0 4 4 2 4 1 9 5 7 7 2 8 2\n",
      " 6 8 5 7 7 9 1 8 1 8 0 3 0 1 9 9 4 1 8 2 1 2 9 7 5 9 2 6 4 1 5 8 2 9 2 0 4\n",
      " 0 0 2 8 4 7 1 2 4 0 2 7 4 3 3 0 0 3 1 9 6 5 2 5 9 2 9 3 0 4 2 0 7 1 1 2 1\n",
      " 5 3 3 9 7 8 6 5 6 1 3 8 1 0 5 1 3 1 5 5 6 1 8 5 1 7 9 4 6 2 2 5 0 6 5 6 3\n",
      " 7 2 0 8 8 5 4 1 1 4 0 3 3 7 6 1 6 2 1 9 2 8 6 1 9 5 2 5 4 4 2 8 3 8 2 4 5\n",
      " 0 3 1 7 7 5 7 9 7 1 9 2 1 4 2 9 2 0 4 9 1 4 8 1 8 4 5 9 8 8 3 7 6 0 0 3 0\n",
      " 2 6 6 4 9 3 3 3 2 3 9 1 2 6 8 0 5 6 6 6 3 8 8 2 7 5 8 9 6 1 8 4 1 2 5 9 1\n",
      " 9 7 5 4 0 8 9 9 1 0 5 2 3 7 8 9 4 0 6]\n"
     ]
    }
   ],
   "source": [
    "y_pred = np.asarray(y_pred)\n",
    "y_test_list = np.asarray(y_test_list)\n",
    "\n",
    "print(y_pred)\n",
    "print(y_test_list)"
   ]
  },
  {
   "cell_type": "code",
   "execution_count": 16,
   "metadata": {
    "scrolled": true
   },
   "outputs": [
    {
     "data": {
      "text/plain": [
       "0.758"
      ]
     },
     "execution_count": 16,
     "metadata": {},
     "output_type": "execute_result"
    }
   ],
   "source": [
    "sum(y_pred==y_test_list)/len(y_test_list)"
   ]
  },
  {
   "cell_type": "code",
   "execution_count": 17,
   "metadata": {},
   "outputs": [],
   "source": [
    "# try to classify sample\n",
    "y_pred = []\n",
    "y_test_list = []\n",
    "# for i in range(len(X)):\n",
    "for i in range(500):\n",
    "    sample_index = i\n",
    "#     x_t, y_t = X[i], y[i]\n",
    "    x_t, y_t = X_test[i], y_test[i]\n",
    "#     print(X_test, y_test)\n",
    "    \n",
    "    # calculate the probability of p(y=0|x)\n",
    "    # for each class, calculate the probability\n",
    "    post_prob = [map_prob(x_t, cls_col_dist_list[cls], prior_list[cls]) for cls in y_classes]\n",
    "# #     print(post_prob)\n",
    "\n",
    "    y_pred.append(np.argmax(post_prob))\n",
    "    y_test_list.append(y_t)\n",
    "\n"
   ]
  },
  {
   "cell_type": "code",
   "execution_count": 18,
   "metadata": {},
   "outputs": [
    {
     "name": "stdout",
     "output_type": "stream",
     "text": [
      "[7 2 1 0 4 1 4 9 4 7 0 6 9 0 1 3 9 7 2 4 9 6 6 5 4 0 7 4 0 1 3 1 3 0 7 2 7\n",
      " 1 2 1 1 7 4 2 3 3 3 6 4 4 6 3 5 3 6 0 4 1 9 4 7 2 7 2 7 1 2 4 3 0 7 0 2 7\n",
      " 1 7 3 2 1 7 7 6 2 7 4 4 7 3 6 1 3 6 1 3 1 4 1 2 6 9 6 0 5 4 9 9 2 1 9 4 1\n",
      " 1 1 9 7 4 4 4 7 4 3 4 7 6 7 9 0 5 8 5 6 6 3 2 1 1 0 1 6 4 6 7 3 1 7 1 8 2\n",
      " 0 2 4 4 5 3 1 5 6 0 3 4 4 6 5 4 6 3 4 5 1 4 4 7 2 3 2 1 1 4 1 8 1 8 1 0 3\n",
      " 4 2 3 0 1 1 1 0 4 0 4 1 6 4 2 3 6 1 1 1 3 9 3 2 9 4 7 9 1 9 0 3 5 7 5 7 2\n",
      " 2 7 1 2 8 1 1 7 3 1 8 7 7 7 2 2 4 1 3 3 8 4 2 3 0 2 4 1 4 1 9 3 7 7 1 1 2\n",
      " 6 8 5 7 7 9 1 3 1 2 0 3 0 1 9 9 4 1 8 2 1 2 9 1 5 9 2 6 0 1 3 4 2 9 2 0 4\n",
      " 0 0 2 1 4 4 1 2 4 0 2 7 4 3 3 0 0 3 1 9 6 5 2 5 1 7 9 1 3 4 2 0 7 1 1 2 1\n",
      " 5 3 3 4 7 2 6 3 2 1 3 5 1 3 5 1 7 1 3 0 6 1 8 5 1 7 4 0 6 7 2 4 0 6 5 6 3\n",
      " 7 2 2 8 4 5 9 1 1 4 0 7 3 7 6 1 6 2 1 9 2 8 6 1 7 3 2 3 4 4 2 3 3 4 3 4 0\n",
      " 0 3 1 7 1 3 7 9 7 1 7 2 1 4 0 9 2 0 2 9 1 4 4 1 4 4 5 9 8 4 3 7 6 0 0 3 4\n",
      " 8 0 6 4 3 3 3 3 2 3 9 1 2 3 9 0 7 6 6 6 7 8 8 2 7 5 8 7 6 1 8 4 1 2 3 3 1\n",
      " 9 7 0 4 0 4 9 7 1 0 3 2 3 7 2 9 1 4 1]\n",
      "[7 2 1 0 4 1 4 9 5 9 0 6 9 0 1 5 9 7 3 4 9 6 6 5 4 0 7 4 0 1 3 1 3 4 7 2 7\n",
      " 1 2 1 1 7 4 2 3 5 1 2 4 4 6 3 5 5 6 0 4 1 9 5 7 8 9 3 7 4 6 4 3 0 7 0 2 9\n",
      " 1 7 3 2 9 7 7 6 2 7 8 4 7 3 6 1 3 6 9 3 1 4 1 7 6 9 6 0 5 4 9 9 2 1 9 4 8\n",
      " 7 3 9 7 4 4 4 9 2 5 4 7 6 7 9 0 5 8 5 6 6 5 7 8 1 0 1 6 4 6 7 3 1 7 1 8 2\n",
      " 0 2 9 9 5 5 1 5 6 0 3 4 4 6 5 4 6 5 4 5 1 4 4 7 2 3 2 7 1 8 1 8 1 8 5 0 8\n",
      " 9 2 5 0 1 1 1 0 9 0 3 1 6 4 2 3 6 1 1 1 3 9 5 2 9 4 5 9 3 9 0 3 6 5 5 7 2\n",
      " 2 7 1 2 8 4 1 7 3 3 8 8 7 9 2 2 4 1 5 9 8 7 2 3 0 4 4 2 4 1 9 5 7 7 2 8 2\n",
      " 6 8 5 7 7 9 1 8 1 8 0 3 0 1 9 9 4 1 8 2 1 2 9 7 5 9 2 6 4 1 5 8 2 9 2 0 4\n",
      " 0 0 2 8 4 7 1 2 4 0 2 7 4 3 3 0 0 3 1 9 6 5 2 5 9 2 9 3 0 4 2 0 7 1 1 2 1\n",
      " 5 3 3 9 7 8 6 5 6 1 3 8 1 0 5 1 3 1 5 5 6 1 8 5 1 7 9 4 6 2 2 5 0 6 5 6 3\n",
      " 7 2 0 8 8 5 4 1 1 4 0 3 3 7 6 1 6 2 1 9 2 8 6 1 9 5 2 5 4 4 2 8 3 8 2 4 5\n",
      " 0 3 1 7 7 5 7 9 7 1 9 2 1 4 2 9 2 0 4 9 1 4 8 1 8 4 5 9 8 8 3 7 6 0 0 3 0\n",
      " 2 6 6 4 9 3 3 3 2 3 9 1 2 6 8 0 5 6 6 6 3 8 8 2 7 5 8 9 6 1 8 4 1 2 5 9 1\n",
      " 9 7 5 4 0 8 9 9 1 0 5 2 3 7 8 9 4 0 6]\n"
     ]
    }
   ],
   "source": [
    "y_pred = np.asarray(y_pred)\n",
    "y_test_list = np.asarray(y_test_list)\n",
    "\n",
    "print(y_pred)\n",
    "print(y_test_list)"
   ]
  },
  {
   "cell_type": "code",
   "execution_count": 19,
   "metadata": {},
   "outputs": [
    {
     "data": {
      "text/plain": [
       "0.758"
      ]
     },
     "execution_count": 19,
     "metadata": {},
     "output_type": "execute_result"
    }
   ],
   "source": [
    "sum(y_pred==y_test_list)/len(y_test_list)"
   ]
  },
  {
   "cell_type": "code",
   "execution_count": null,
   "metadata": {},
   "outputs": [],
   "source": []
  },
  {
   "cell_type": "code",
   "execution_count": null,
   "metadata": {},
   "outputs": [],
   "source": []
  },
  {
   "cell_type": "code",
   "execution_count": null,
   "metadata": {},
   "outputs": [],
   "source": []
  },
  {
   "cell_type": "code",
   "execution_count": null,
   "metadata": {},
   "outputs": [],
   "source": []
  },
  {
   "cell_type": "code",
   "execution_count": null,
   "metadata": {},
   "outputs": [],
   "source": []
  },
  {
   "cell_type": "code",
   "execution_count": null,
   "metadata": {},
   "outputs": [],
   "source": []
  },
  {
   "cell_type": "code",
   "execution_count": null,
   "metadata": {},
   "outputs": [],
   "source": []
  }
 ],
 "metadata": {
  "kernelspec": {
   "display_name": "Python 3",
   "language": "python",
   "name": "python3"
  },
  "language_info": {
   "codemirror_mode": {
    "name": "ipython",
    "version": 3
   },
   "file_extension": ".py",
   "mimetype": "text/x-python",
   "name": "python",
   "nbconvert_exporter": "python",
   "pygments_lexer": "ipython3",
   "version": "3.8.5"
  }
 },
 "nbformat": 4,
 "nbformat_minor": 2
}
