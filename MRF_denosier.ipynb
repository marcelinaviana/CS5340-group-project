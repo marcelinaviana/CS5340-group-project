{
 "cells": [
  {
   "cell_type": "code",
   "execution_count": 10,
   "id": "white-richardson",
   "metadata": {},
   "outputs": [],
   "source": [
    "import torch\n",
    "from d2l import torch as d2l\n",
    "import numpy as np\n",
    "from matplotlib import pyplot as plt\n",
    "from torchvision import datasets\n",
    "from torch.utils.data import DataLoader\n",
    "from torchvision.transforms import ToTensor\n",
    "import random"
   ]
  },
  {
   "cell_type": "code",
   "execution_count": 6,
   "id": "outstanding-sensitivity",
   "metadata": {},
   "outputs": [
    {
     "name": "stdout",
     "output_type": "stream",
     "text": [
      "Shape of X [N, C, H, W]:  torch.Size([64, 1, 28, 28])\n",
      "Shape of y:  torch.Size([64]) torch.int64\n",
      "(28, 28)\n"
     ]
    },
    {
     "data": {
      "image/png": "[encoded data removed]",
      "text/plain": [
       "<Figure size 108x216 with 2 Axes>"
      ]
     },
     "metadata": {
      "needs_background": "light"
     },
     "output_type": "display_data"
    }
   ],
   "source": [
    "\n",
    "\n",
    "mnist_train = datasets.MNIST(\n",
    "    root='/Users/jw733991/Documents/nus_/Jan2020/5340/project/mnist-data/', train=True, transform=ToTensor(), download=True)\n",
    "mnist_test = datasets.MNIST(\n",
    "    root='/Users/jw733991/Documents/nus_/Jan2020/5340/project/mnist-data/', train=False, transform=ToTensor(), download=True)\n",
    "\n",
    "batch_size = 64\n",
    "\n",
    "# Create data loaders.\n",
    "train_dataloader = DataLoader(mnist_train, batch_size=batch_size)\n",
    "test_dataloader = DataLoader(mnist_test, batch_size=batch_size)\n",
    "\n",
    "for X, y in test_dataloader:\n",
    "    print(\"Shape of X [N, C, H, W]: \", X.shape)\n",
    "    print(\"Shape of y: \", y.shape, y.dtype)\n",
    "    break\n",
    "    \n",
    "    \n",
    "\n",
    "x1 = torch.stack([mnist_train[1][0]],\n",
    "                     dim=1).squeeze(0)\n",
    "y1 = torch.tensor([mnist_train[1][1]])\n",
    "x1.shape\n",
    "d2l.show_images(x1,2,1);\n",
    "\n",
    "def binarize_image(img_eq):\n",
    "    img_bin = np.copy(img_eq)\n",
    "    img_bin[img_bin < 0.5] = -1\n",
    "    img_bin[img_bin >= 0.5] = 1\n",
    "    return img_bin\n",
    "\n",
    "X2 = binarize_image(x1[0])\n",
    "print(X2.shape)\n",
    "plt.imshow(X2)\n",
    "plt.show()\n"
   ]
  },
  {
   "cell_type": "code",
   "execution_count": 11,
   "id": "static-burton",
   "metadata": {},
   "outputs": [],
   "source": [
    "class IsingModel:\n",
    "    def __init__(self, image, ext_factor, beta):\n",
    "\n",
    "        self.width, self.height, self.ext_factor, self.beta = image.shape[0], image.shape[1], ext_factor, beta\n",
    "        self.image = image\n",
    "\n",
    "    def neighbours(self, x, y):\n",
    "        n = []\n",
    "        if x == 0:\n",
    "            n.append((self.width-1, y))\n",
    "        else:\n",
    "            n.append((x-1, y))\n",
    "        if x == self.width-1:\n",
    "            n.append((0, y))\n",
    "        else:\n",
    "            n.append((x+1, y))\n",
    "        if y == 0:\n",
    "            n.append((x, self.height-1))\n",
    "        else:\n",
    "            n.append((x, y-1))\n",
    "        if y == self.height-1:\n",
    "            n.append((x, 0))\n",
    "        else:\n",
    "            n.append((x, y+1))\n",
    "        return n\n",
    "\n",
    "    def local_energy(self, x, y):\n",
    "        return self.ext_factor[x,y] + sum(self.image[xx,yy] for (xx, yy) in self.neighbours(x, y))\n",
    "\n",
    "    def gibbs_sample(self, x, y):\n",
    "        p = 1 / (1 + np.exp(-2 * self.beta * self.local_energy(x,y)))\n",
    "        if random.uniform(0, 1) <= p:\n",
    "            self.image[x, y] = 1\n",
    "        else:\n",
    "            self.image[x, y] = -1\n",
    "\n",
    "\n",
    "\n",
    "def denoise(image, q, burn_in, iterations):\n",
    "    external_factor = 0.5 * np.log(q / (1-q))\n",
    "    model = IsingModel(image, external_factor*image, 3)\n",
    "\n",
    "    avg = np.zeros_like(image).astype(np.float64)\n",
    "    for i in range(burn_in + iterations):\n",
    "        print(\"Iteration - \" + str(i))\n",
    "        for x in range(image.shape[0]):\n",
    "            for y in range(image.shape[1]):\n",
    "                if(random.uniform(0, 1) <= 0.7):\n",
    "                    model.gibbs_sample(x, y)\n",
    "        if(i > burn_in):\n",
    "            avg += model.image\n",
    "    return avg / iterations"
   ]
  },
  {
   "cell_type": "code",
   "execution_count": 12,
   "id": "spiritual-desktop",
   "metadata": {},
   "outputs": [
    {
     "name": "stdout",
     "output_type": "stream",
     "text": [
      "Iteration - 0\n",
      "Iteration - 1\n",
      "Iteration - 2\n",
      "Iteration - 3\n",
      "Iteration - 4\n",
      "Iteration - 5\n",
      "Iteration - 6\n",
      "Iteration - 7\n",
      "Iteration - 8\n",
      "Iteration - 9\n",
      "Iteration - 10\n",
      "Iteration - 11\n",
      "Iteration - 12\n",
      "Iteration - 13\n",
      "Iteration - 14\n"
     ]
    },
    {
     "data": {
      "text/plain": [
       "<matplotlib.image.AxesImage at 0x1379f28e0>"
      ]
     },
     "execution_count": 12,
     "metadata": {},
     "output_type": "execute_result"
    },
    {
     "data": {
      "image/png": "[encoded data removed]",
      "text/plain": [
       "<Figure size 432x288 with 1 Axes>"
      ]
     },
     "metadata": {
      "needs_background": "light"
     },
     "output_type": "display_data"
    }
   ],
   "source": [
    "avg = denoise(X2, 0.7, 5, 10)\n",
    "plt.imshow(avg)"
   ]
  }
 ],
 "metadata": {
  "kernelspec": {
   "display_name": "Python 3",
   "language": "python",
   "name": "python3"
  },
  "language_info": {
   "codemirror_mode": {
    "name": "ipython",
    "version": 3
   },
   "file_extension": ".py",
   "mimetype": "text/x-python",
   "name": "python",
   "nbconvert_exporter": "python",
   "pygments_lexer": "ipython3",
   "version": "3.9.2"
  }
 },
 "nbformat": 4,
 "nbformat_minor": 5
}
